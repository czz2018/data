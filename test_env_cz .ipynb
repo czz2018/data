{
 "cells": [
  {
   "cell_type": "code",
   "execution_count": 2,
   "id": "eleven-movement",
   "metadata": {},
   "outputs": [
    {
     "name": "stdout",
     "output_type": "stream",
     "text": [
      "None\n"
     ]
    }
   ],
   "source": [
    "import os\n",
    "from pathlib import Path\n",
    "env_tt = os.environ.get('tt')\n",
    "pathh='/tmp/outputs/env_tt/data'\n",
    "Path(pathh).parent.mkdir(parents=True, exist_ok=True)\n",
    "Path(pathh).write_text(json.dumps(env_tt))"
   ]
  }
 ],
 "metadata": {
  "kernelspec": {
   "display_name": "Python 3",
   "language": "python",
   "name": "python3"
  },
  "language_info": {
   "codemirror_mode": {
    "name": "ipython",
    "version": 3
   },
   "file_extension": ".py",
   "mimetype": "text/x-python",
   "name": "python",
   "nbconvert_exporter": "python",
   "pygments_lexer": "ipython3",
   "version": "3.8.6"
  }
 },
 "nbformat": 4,
 "nbformat_minor": 5
}
